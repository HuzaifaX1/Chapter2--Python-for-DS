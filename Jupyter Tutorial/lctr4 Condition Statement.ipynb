{
 "cells": [
  {
   "cell_type": "markdown",
   "id": "b19d6e8c",
   "metadata": {},
   "source": [
    "# Problem 1: Take a veriable x and print \"Even\" if the number is divisible by 2, otherwise print \"Odd\"."
   ]
  },
  {
   "cell_type": "code",
   "execution_count": 3,
   "id": "c9078597",
   "metadata": {},
   "outputs": [
    {
     "name": "stdout",
     "output_type": "stream",
     "text": [
      "Odd\n"
     ]
    }
   ],
   "source": [
    "x=9\n",
    "\n",
    "if(x%2==0):\n",
    "    print(\"Even\")\n",
    "else:\n",
    "    print(\"Odd\")"
   ]
  },
  {
   "cell_type": "markdown",
   "id": "66cf8553",
   "metadata": {},
   "source": [
    "# Problem 2: Take a variable y and print \"Grade A\" if y is greater than 90, \"Grade B\" if y is greater than 60 but less than or equal to 90 and \"Grade F\" Otherwise.\n"
   ]
  },
  {
   "cell_type": "code",
   "execution_count": null,
   "id": "88cbe0e1",
   "metadata": {},
   "outputs": [],
   "source": [
    "y=55\n",
    "\n",
    "if(y>90):\n",
    "    print(\"Grade A\")\n",
    "elif(y>60 and y<=90):\n",
    "    print(\"Grade B\")\n",
    "else:\n",
    "    print(\"Grade F\")"
   ]
  },
  {
   "cell_type": "code",
   "execution_count": null,
   "id": "eac1d106",
   "metadata": {},
   "outputs": [],
   "source": [
    "#Isme just if else elif condition k bare me padhaya gaya or kuch nahi"
   ]
  }
 ],
 "metadata": {
  "kernelspec": {
   "display_name": "Python 3 (ipykernel)",
   "language": "python",
   "name": "python3"
  },
  "language_info": {
   "codemirror_mode": {
    "name": "ipython",
    "version": 3
   },
   "file_extension": ".py",
   "mimetype": "text/x-python",
   "name": "python",
   "nbconvert_exporter": "python",
   "pygments_lexer": "ipython3",
   "version": "3.10.9"
  }
 },
 "nbformat": 4,
 "nbformat_minor": 5
}
