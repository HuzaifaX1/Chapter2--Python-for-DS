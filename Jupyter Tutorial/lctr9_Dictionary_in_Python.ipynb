{
 "cells": [
  {
   "cell_type": "markdown",
   "id": "135e7efe",
   "metadata": {},
   "source": [
    "# Creating a Dictionary"
   ]
  },
  {
   "cell_type": "code",
   "execution_count": 1,
   "id": "d61da9ac",
   "metadata": {},
   "outputs": [],
   "source": [
    "marks={'Geography':78, 'Hindi':65, 'Maths':80}"
   ]
  },
  {
   "cell_type": "code",
   "execution_count": 2,
   "id": "2fb0dd7d",
   "metadata": {},
   "outputs": [
    {
     "data": {
      "text/plain": [
       "{'Geography': 78, 'Hindi': 65, 'Maths': 80}"
      ]
     },
     "execution_count": 2,
     "metadata": {},
     "output_type": "execute_result"
    }
   ],
   "source": [
    "marks"
   ]
  },
  {
   "cell_type": "code",
   "execution_count": 4,
   "id": "7b7d8261",
   "metadata": {},
   "outputs": [
    {
     "data": {
      "text/plain": [
       "78"
      ]
     },
     "execution_count": 4,
     "metadata": {},
     "output_type": "execute_result"
    }
   ],
   "source": [
    "#accessing an element\n",
    "marks['Geography']"
   ]
  },
  {
   "cell_type": "code",
   "execution_count": 5,
   "id": "091681d9",
   "metadata": {},
   "outputs": [],
   "source": [
    "#adding an element\n",
    "marks['English']=90"
   ]
  },
  {
   "cell_type": "code",
   "execution_count": 6,
   "id": "1a65e7e8",
   "metadata": {},
   "outputs": [
    {
     "data": {
      "text/plain": [
       "{'Geography': 78, 'Hindi': 65, 'Maths': 80, 'English': 90}"
      ]
     },
     "execution_count": 6,
     "metadata": {},
     "output_type": "execute_result"
    }
   ],
   "source": [
    "marks"
   ]
  },
  {
   "cell_type": "code",
   "execution_count": 7,
   "id": "93945f2e",
   "metadata": {},
   "outputs": [],
   "source": [
    "marks.update({'Chemistry':82, 'Physics':78})"
   ]
  },
  {
   "cell_type": "code",
   "execution_count": 8,
   "id": "e3bcea13",
   "metadata": {},
   "outputs": [
    {
     "data": {
      "text/plain": [
       "{'Geography': 78,\n",
       " 'Hindi': 65,\n",
       " 'Maths': 80,\n",
       " 'English': 90,\n",
       " 'Chemistry': 82,\n",
       " 'Physics': 78}"
      ]
     },
     "execution_count": 8,
     "metadata": {},
     "output_type": "execute_result"
    }
   ],
   "source": [
    "marks"
   ]
  },
  {
   "cell_type": "code",
   "execution_count": null,
   "id": "527d842a",
   "metadata": {},
   "outputs": [],
   "source": []
  }
 ],
 "metadata": {
  "kernelspec": {
   "display_name": "Python 3 (ipykernel)",
   "language": "python",
   "name": "python3"
  },
  "language_info": {
   "codemirror_mode": {
    "name": "ipython",
    "version": 3
   },
   "file_extension": ".py",
   "mimetype": "text/x-python",
   "name": "python",
   "nbconvert_exporter": "python",
   "pygments_lexer": "ipython3",
   "version": "3.10.9"
  }
 },
 "nbformat": 4,
 "nbformat_minor": 5
}
