{
 "cells": [
  {
   "cell_type": "markdown",
   "id": "7f76e60d",
   "metadata": {},
   "source": [
    "# Variable Assignment"
   ]
  },
  {
   "cell_type": "code",
   "execution_count": 1,
   "id": "1f987d97",
   "metadata": {},
   "outputs": [
    {
     "name": "stdout",
     "output_type": "stream",
     "text": [
      "5\n"
     ]
    }
   ],
   "source": [
    "a = 5\n",
    "print(a)"
   ]
  },
  {
   "cell_type": "code",
   "execution_count": 2,
   "id": "e53b707b",
   "metadata": {},
   "outputs": [],
   "source": [
    "A = 4"
   ]
  },
  {
   "cell_type": "code",
   "execution_count": 3,
   "id": "68ab65df",
   "metadata": {},
   "outputs": [
    {
     "name": "stdout",
     "output_type": "stream",
     "text": [
      "4\n",
      "5\n"
     ]
    }
   ],
   "source": [
    "print(A)\n",
    "print(a)"
   ]
  },
  {
   "cell_type": "markdown",
   "id": "72b93a74",
   "metadata": {},
   "source": [
    "# How variables are work in python"
   ]
  },
  {
   "cell_type": "code",
   "execution_count": 4,
   "id": "47fc40c9",
   "metadata": {},
   "outputs": [],
   "source": [
    "a = 7 \n",
    "b = a\n",
    "a = 3"
   ]
  },
  {
   "cell_type": "code",
   "execution_count": 5,
   "id": "1e19f62c",
   "metadata": {},
   "outputs": [
    {
     "name": "stdout",
     "output_type": "stream",
     "text": [
      "3\n"
     ]
    }
   ],
   "source": [
    "print (a)"
   ]
  },
  {
   "cell_type": "code",
   "execution_count": 6,
   "id": "f31a81bf",
   "metadata": {},
   "outputs": [
    {
     "name": "stdout",
     "output_type": "stream",
     "text": [
      "7\n"
     ]
    }
   ],
   "source": [
    "print (b)"
   ]
  },
  {
   "cell_type": "markdown",
   "id": "0aee4122",
   "metadata": {},
   "source": [
    "# Variable name rule in Python"
   ]
  },
  {
   "cell_type": "code",
   "execution_count": 7,
   "id": "b6ac3e27",
   "metadata": {},
   "outputs": [],
   "source": [
    "a = 5"
   ]
  },
  {
   "cell_type": "code",
   "execution_count": 8,
   "id": "52b85188",
   "metadata": {},
   "outputs": [],
   "source": [
    "_a = 4"
   ]
  },
  {
   "cell_type": "code",
   "execution_count": 9,
   "id": "95e86c31",
   "metadata": {},
   "outputs": [
    {
     "ename": "SyntaxError",
     "evalue": "invalid syntax. Maybe you meant '==' or ':=' instead of '='? (1440739549.py, line 1)",
     "output_type": "error",
     "traceback": [
      "\u001b[1;36m  Cell \u001b[1;32mIn[9], line 1\u001b[1;36m\u001b[0m\n\u001b[1;33m    @a = 6\u001b[0m\n\u001b[1;37m     ^\u001b[0m\n\u001b[1;31mSyntaxError\u001b[0m\u001b[1;31m:\u001b[0m invalid syntax. Maybe you meant '==' or ':=' instead of '='?\n"
     ]
    }
   ],
   "source": [
    "@a = 6"
   ]
  },
  {
   "cell_type": "code",
   "execution_count": null,
   "id": "cf38c427",
   "metadata": {},
   "outputs": [],
   "source": [
    "1a = 54"
   ]
  },
  {
   "cell_type": "markdown",
   "id": "3bff4dd7",
   "metadata": {},
   "source": [
    "# Data Types\n"
   ]
  },
  {
   "cell_type": "code",
   "execution_count": 12,
   "id": "4f83fe22",
   "metadata": {},
   "outputs": [],
   "source": [
    "a = 5"
   ]
  },
  {
   "cell_type": "code",
   "execution_count": 13,
   "id": "5e142a90",
   "metadata": {},
   "outputs": [
    {
     "data": {
      "text/plain": [
       "int"
      ]
     },
     "execution_count": 13,
     "metadata": {},
     "output_type": "execute_result"
    }
   ],
   "source": [
    "type(a)"
   ]
  },
  {
   "cell_type": "code",
   "execution_count": 14,
   "id": "ac0dcf34",
   "metadata": {},
   "outputs": [],
   "source": [
    "b = \"Huzaifa\""
   ]
  },
  {
   "cell_type": "code",
   "execution_count": 15,
   "id": "53e6e0dc",
   "metadata": {},
   "outputs": [
    {
     "data": {
      "text/plain": [
       "str"
      ]
     },
     "execution_count": 15,
     "metadata": {},
     "output_type": "execute_result"
    }
   ],
   "source": [
    "type(b)"
   ]
  },
  {
   "cell_type": "code",
   "execution_count": 16,
   "id": "12262c6d",
   "metadata": {},
   "outputs": [],
   "source": [
    "c = 6.4"
   ]
  },
  {
   "cell_type": "code",
   "execution_count": 17,
   "id": "704eb945",
   "metadata": {},
   "outputs": [
    {
     "data": {
      "text/plain": [
       "float"
      ]
     },
     "execution_count": 17,
     "metadata": {},
     "output_type": "execute_result"
    }
   ],
   "source": [
    "type(c)"
   ]
  },
  {
   "cell_type": "code",
   "execution_count": 20,
   "id": "ce520404",
   "metadata": {},
   "outputs": [],
   "source": [
    "d = 3/7"
   ]
  },
  {
   "cell_type": "code",
   "execution_count": 21,
   "id": "df3c8702",
   "metadata": {},
   "outputs": [
    {
     "data": {
      "text/plain": [
       "float"
      ]
     },
     "execution_count": 21,
     "metadata": {},
     "output_type": "execute_result"
    }
   ],
   "source": [
    "type(d)"
   ]
  },
  {
   "cell_type": "code",
   "execution_count": null,
   "id": "14748ce9",
   "metadata": {},
   "outputs": [],
   "source": []
  }
 ],
 "metadata": {
  "kernelspec": {
   "display_name": "Python 3 (ipykernel)",
   "language": "python",
   "name": "python3"
  },
  "language_info": {
   "codemirror_mode": {
    "name": "ipython",
    "version": 3
   },
   "file_extension": ".py",
   "mimetype": "text/x-python",
   "name": "python",
   "nbconvert_exporter": "python",
   "pygments_lexer": "ipython3",
   "version": "3.10.9"
  }
 },
 "nbformat": 4,
 "nbformat_minor": 5
}
