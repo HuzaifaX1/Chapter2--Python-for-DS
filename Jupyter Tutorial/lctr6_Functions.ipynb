{
 "cells": [
  {
   "cell_type": "markdown",
   "id": "7283ffa7",
   "metadata": {},
   "source": [
    "# Problem: Create a function that takes two numbers as argument and return greater of two"
   ]
  },
  {
   "cell_type": "code",
   "execution_count": 2,
   "id": "94d4d845",
   "metadata": {},
   "outputs": [],
   "source": [
    "def compare(a,b):\n",
    "    if(a>b):\n",
    "        greater = a\n",
    "    else:\n",
    "        greater = b\n",
    "        return greater"
   ]
  },
  {
   "cell_type": "code",
   "execution_count": 3,
   "id": "e485b718",
   "metadata": {},
   "outputs": [
    {
     "data": {
      "text/plain": [
       "8"
      ]
     },
     "execution_count": 3,
     "metadata": {},
     "output_type": "execute_result"
    }
   ],
   "source": [
    "compare (3,8)"
   ]
  },
  {
   "cell_type": "markdown",
   "id": "7de98cd1",
   "metadata": {},
   "source": [
    "# What would be the output of below code when calls for odd(9)"
   ]
  },
  {
   "cell_type": "code",
   "execution_count": 21,
   "id": "dc8ac560",
   "metadata": {},
   "outputs": [],
   "source": [
    "def odd(a):\n",
    "    if a%2==0:\n",
    "        z= \"Not odd\"\n",
    "        return (z)\n",
    "    else:\n",
    "        b = \"Odd\"\n",
    "        return (b)"
   ]
  },
  {
   "cell_type": "code",
   "execution_count": 22,
   "id": "a242a8c9",
   "metadata": {},
   "outputs": [
    {
     "data": {
      "text/plain": [
       "'Not odd'"
      ]
     },
     "execution_count": 22,
     "metadata": {},
     "output_type": "execute_result"
    }
   ],
   "source": [
    "odd(2)"
   ]
  },
  {
   "cell_type": "markdown",
   "id": "4301a163",
   "metadata": {},
   "source": [
    "# What would be the result of min(200,400)"
   ]
  },
  {
   "cell_type": "code",
   "execution_count": 29,
   "id": "defe35e7",
   "metadata": {},
   "outputs": [],
   "source": [
    "def min(a,b):\n",
    "    if (a>b):\n",
    "        return (b)\n",
    "    elif (a==b):\n",
    "        return (\"The number is equal\")\n",
    "    else:\n",
    "        return(a)\n"
   ]
  },
  {
   "cell_type": "code",
   "execution_count": 32,
   "id": "cff3544f",
   "metadata": {},
   "outputs": [
    {
     "data": {
      "text/plain": [
       "200"
      ]
     },
     "execution_count": 32,
     "metadata": {},
     "output_type": "execute_result"
    }
   ],
   "source": [
    "min(200, 400)"
   ]
  },
  {
   "cell_type": "code",
   "execution_count": null,
   "id": "712bfccc",
   "metadata": {},
   "outputs": [],
   "source": []
  }
 ],
 "metadata": {
  "kernelspec": {
   "display_name": "Python 3 (ipykernel)",
   "language": "python",
   "name": "python3"
  },
  "language_info": {
   "codemirror_mode": {
    "name": "ipython",
    "version": 3
   },
   "file_extension": ".py",
   "mimetype": "text/x-python",
   "name": "python",
   "nbconvert_exporter": "python",
   "pygments_lexer": "ipython3",
   "version": "3.10.9"
  }
 },
 "nbformat": 4,
 "nbformat_minor": 5
}
